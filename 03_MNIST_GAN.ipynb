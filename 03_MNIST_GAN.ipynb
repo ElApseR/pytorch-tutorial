{
 "cells": [
  {
   "cell_type": "markdown",
   "metadata": {},
   "source": [
    "- reference\n",
    "    - https://github.com/dreamgonfly/GAN-tutorial/blob/master/GAN.ipynb"
   ]
  },
  {
   "cell_type": "code",
   "execution_count": null,
   "metadata": {},
   "outputs": [],
   "source": [
    "import torch\n",
    "import torch.nn as nn\n",
    "import torch.optim as optim\n",
    "from torch.autograd import Variable\n",
    "import torchvision.utils as utils\n",
    "from torchvision import datasets, transforms\n",
    "import torch.nn.functional as F\n",
    "\n",
    "is_cuda = torch.cuda.is_available()\n",
    "device = torch.device('cuda' if is_cuda else 'cpu')\n",
    "\n",
    "# 0~1로 standardize -> G에서 tanh 써야함\n",
    "transform = transforms.Compose([\n",
    "    transforms.ToTensor(), # change data as tensor\n",
    "    transforms.Normalize(mean=[0.5], std=[0.5])]) # 0~1의 pixel값(grey scale)을 -1~1로 바꾼다\n",
    "\n",
    "# MNIST dataset\n",
    "train_data = datasets.MNIST(root='data/', train=True, transform=transform, download=True)\n",
    "test_data  = datasets.MNIST(root='data/', train=False, transform=transform, download=True)\n",
    "\n",
    "\n",
    "batch_size = 100\n",
    "train_data_loader = torch.utils.data.DataLoader(train_data, batch_size, shuffle=True)\n",
    "test_data_loader  = torch.utils.data.DataLoader(test_data, batch_size, shuffle=True)"
   ]
  },
  {
   "cell_type": "code",
   "execution_count": null,
   "metadata": {},
   "outputs": [],
   "source": [
    "example_mini_batch_img, example_mini_batch_label  = next(iter(train_data_loader))"
   ]
  },
  {
   "cell_type": "code",
   "execution_count": null,
   "metadata": {},
   "outputs": [],
   "source": [
    "dim_z = 100"
   ]
  },
  {
   "cell_type": "code",
   "execution_count": null,
   "metadata": {},
   "outputs": [],
   "source": [
    "# input notse generator for Generator\n",
    "def input_noise_generator(batch_size, dim):\n",
    "    return torch.randn(batch_size, dim, device=device)"
   ]
  },
  {
   "cell_type": "code",
   "execution_count": null,
   "metadata": {},
   "outputs": [],
   "source": [
    "# define generator\n",
    "class Generator(nn.Module):\n",
    "    def __init__(self):\n",
    "        super(Generator, self).__init__()\n",
    "        self.model = nn.Sequential(\n",
    "            nn.Linear(dim_z, 256),\n",
    "            nn.ReLU(inplace=True),\n",
    "            nn.Linear(256, 512),\n",
    "            nn.ReLU(inplace=True),\n",
    "            nn.Linear(512, 1024),\n",
    "            nn.ReLU(inplace=True),\n",
    "            nn.Linear(1024, 28*28),\n",
    "            nn.Tanh() #since normalized to -1~1\n",
    "        )\n",
    "    \n",
    "    def forward(self, x):\n",
    "        # to make visualization easy, change dimension\n",
    "        return self.model(x).view(-1,1,28,28)\n",
    "        "
   ]
  },
  {
   "cell_type": "code",
   "execution_count": null,
   "metadata": {},
   "outputs": [],
   "source": [
    "# define discriminator\n",
    "class Discriminator(nn.Module):\n",
    "    def __init__(self):\n",
    "        super(Discriminator, self).__init__()\n",
    "        self.model = nn.Sequential(\n",
    "            nn.Linear(28*28, 1024),\n",
    "            nn.ReLU(inplace=True),\n",
    "            nn.Dropout(0.5),\n",
    "            nn.Linear(1024, 512),\n",
    "            nn.ReLU(inplace=True),\n",
    "            nn.Dropout(0.5),\n",
    "            nn.Linear(512, 256),\n",
    "            nn.ReLU(inplace=True),\n",
    "            nn.Dropout(0.5),\n",
    "            nn.Linear(256, 1),\n",
    "            nn.Sigmoid()\n",
    "        )\n",
    "        \n",
    "    def forward(self, x):\n",
    "        return self.model(x)"
   ]
  },
  {
   "cell_type": "code",
   "execution_count": null,
   "metadata": {},
   "outputs": [],
   "source": [
    "# make instance and allocate device\n",
    "G = Generator()\n",
    "D = Discriminator()\n",
    "\n",
    "if is_cuda:\n",
    "    G.cuda()\n",
    "    D.cuda()"
   ]
  },
  {
   "cell_type": "code",
   "execution_count": null,
   "metadata": {},
   "outputs": [],
   "source": [
    "# loss function\n",
    "criterion = nn.BCELoss()\n",
    "\n",
    "G_optimizer = optim.SGD(G.parameters(), lr = 1e-3, momentum=0.8)\n",
    "D_optimizer = optim.SGD(G.parameters(), lr = 1e-3, momentum=0.8)"
   ]
  },
  {
   "cell_type": "code",
   "execution_count": null,
   "metadata": {},
   "outputs": [],
   "source": [
    "for epoch in range(100):\n",
    "    D_loss = []\n",
    "    G_loss = []\n",
    "    \n",
    "    for mini_batch_img, mini_batch_label in train_data_loader:\n",
    "        batch_size = mini_batch_img.shape[0]\n",
    "        \n",
    "        # convert data as tensor\n",
    "        mini_batch = Variable(mini_batch_img, )\n",
    "        \n",
    "        # make label\n",
    "        target_real = Variable(torch.ones(batch_size, 1))\n",
    "        target_fake = Variable(torch.zeros(batch_size, 1))\n",
    "        \n",
    "        # push all tensor to cuda\n",
    "        if is_cuda:\n",
    "            mini_batch = mini_batch.cuda()\n",
    "            target_real = target_real.cuda()\n",
    "            target_fake = target_fake.cuda()\n",
    "        \n",
    "        D_result_real = D(mini_batch)\n",
    "        \n",
    "        \n",
    "        \n",
    "        "
   ]
  }
 ],
 "metadata": {
  "kernelspec": {
   "display_name": "py36_torch",
   "language": "python",
   "name": "py36_torch"
  },
  "language_info": {
   "codemirror_mode": {
    "name": "ipython",
    "version": 3
   },
   "file_extension": ".py",
   "mimetype": "text/x-python",
   "name": "python",
   "nbconvert_exporter": "python",
   "pygments_lexer": "ipython3",
   "version": "3.6.9"
  }
 },
 "nbformat": 4,
 "nbformat_minor": 2
}
